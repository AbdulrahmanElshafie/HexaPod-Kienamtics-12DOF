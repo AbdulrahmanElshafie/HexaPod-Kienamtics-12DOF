{
  "nbformat": 4,
  "nbformat_minor": 0,
  "metadata": {
    "colab": {
      "provenance": [],
      "authorship_tag": "ABX9TyNCzqtvKZhF7T7q5z55RxWd",
      "include_colab_link": true
    },
    "kernelspec": {
      "name": "python3",
      "display_name": "Python 3"
    },
    "language_info": {
      "name": "python"
    }
  },
  "cells": [
    {
      "cell_type": "markdown",
      "metadata": {
        "id": "view-in-github",
        "colab_type": "text"
      },
      "source": [
        "<a href=\"https://colab.research.google.com/github/AbdulrahmanElshafie/HexaPod-Kienamtics-12DOF/blob/master/RSSI_Preprocessing.ipynb\" target=\"_parent\"><img src=\"https://colab.research.google.com/assets/colab-badge.svg\" alt=\"Open In Colab\"/></a>"
      ]
    },
    {
      "cell_type": "markdown",
      "source": [
        "## Import requiered Libraries"
      ],
      "metadata": {
        "id": "imTXY0S7rkQw"
      }
    },
    {
      "cell_type": "code",
      "execution_count": 68,
      "metadata": {
        "id": "6j8fm7cg2vmJ"
      },
      "outputs": [],
      "source": [
        "import numpy as np\n",
        "import pandas as pd\n",
        "from sklearn.model_selection import train_test_split"
      ]
    },
    {
      "cell_type": "markdown",
      "source": [
        "## Upload samples for the first place"
      ],
      "metadata": {
        "id": "RDyRKxCSqgNx"
      }
    },
    {
      "cell_type": "code",
      "source": [
        "file_path1 = \"saloon.txt\"\n",
        "saloon_data = np.loadtxt(file_path1)\n",
        "\n",
        "# Print the resulting NumPy array\n",
        "print(\"Data Array:\")\n",
        "print(saloon_data.shape)"
      ],
      "metadata": {
        "colab": {
          "base_uri": "https://localhost:8080/"
        },
        "id": "7TQQ_Sie3oZx",
        "outputId": "73b56f6a-14db-4e13-9ef4-600cacfaf3ca"
      },
      "execution_count": 59,
      "outputs": [
        {
          "output_type": "stream",
          "name": "stdout",
          "text": [
            "Data Array:\n",
            "(94, 3)\n"
          ]
        }
      ]
    },
    {
      "cell_type": "markdown",
      "source": [
        "## Upload samples for the second place"
      ],
      "metadata": {
        "id": "KGC4WPP8qqMo"
      }
    },
    {
      "cell_type": "code",
      "source": [
        "file_path2 = \"room.txt\"\n",
        "room_data = np.loadtxt(file_path2)\n",
        "\n",
        "# Print the resulting NumPy array\n",
        "print(\"Data Array:\")\n",
        "print(room_data.shape)"
      ],
      "metadata": {
        "colab": {
          "base_uri": "https://localhost:8080/"
        },
        "id": "wk75fgbC4Bug",
        "outputId": "ff951ed8-1adc-47d8-cf67-2b582a4c7a28"
      },
      "execution_count": 60,
      "outputs": [
        {
          "output_type": "stream",
          "name": "stdout",
          "text": [
            "Data Array:\n",
            "(75, 3)\n"
          ]
        }
      ]
    },
    {
      "cell_type": "markdown",
      "source": [
        "## Upload samples for the third place"
      ],
      "metadata": {
        "id": "s5Qdi_7yqsVA"
      }
    },
    {
      "cell_type": "code",
      "source": [
        "file_path3 = \"kitchen.txt\"\n",
        "kitchen_data = np.loadtxt(file_path3)\n",
        "\n",
        "# Print the resulting NumPy array\n",
        "print(\"Data Array:\")\n",
        "print(kitchen_data.shape)"
      ],
      "metadata": {
        "colab": {
          "base_uri": "https://localhost:8080/"
        },
        "id": "wIvErxpD4oJA",
        "outputId": "5e812069-c071-4c3b-dfd6-af7ab9428cf7"
      },
      "execution_count": 62,
      "outputs": [
        {
          "output_type": "stream",
          "name": "stdout",
          "text": [
            "Data Array:\n",
            "(56, 3)\n"
          ]
        }
      ]
    },
    {
      "cell_type": "markdown",
      "source": [
        "## replace any zero value to -100  \n",
        "zero means no RSSI\n",
        "while -100 indecates the robot is very far from this access point"
      ],
      "metadata": {
        "id": "HK1V7B5UqyFG"
      }
    },
    {
      "cell_type": "code",
      "source": [
        "def preprocessing(data):\n",
        "  for i in range(data.shape[0]):\n",
        "    if data[i][2] == 0:\n",
        "      data[i][2] = -100\n",
        "  return data"
      ],
      "metadata": {
        "id": "6beW_NZh5ZxA"
      },
      "execution_count": 63,
      "outputs": []
    },
    {
      "cell_type": "code",
      "source": [
        "saloon_data = preprocessing(saloon_data)\n",
        "room_data = preprocessing(room_data)\n",
        "kitchen_data = preprocessing(kitchen_data)"
      ],
      "metadata": {
        "id": "RZjU9XSX9SLy"
      },
      "execution_count": 64,
      "outputs": []
    },
    {
      "cell_type": "markdown",
      "source": [
        "## Marge sample together in one array"
      ],
      "metadata": {
        "id": "9WKCagChrUgb"
      }
    },
    {
      "cell_type": "code",
      "source": [
        "data = np.concatenate((saloon_data, room_data, kitchen_data), axis=0)\n",
        "data.shape"
      ],
      "metadata": {
        "colab": {
          "base_uri": "https://localhost:8080/"
        },
        "id": "cwqWaaI6FVF2",
        "outputId": "2ca8e9f2-e779-475a-e367-01579a776897"
      },
      "execution_count": 65,
      "outputs": [
        {
          "output_type": "execute_result",
          "data": {
            "text/plain": [
              "(225, 3)"
            ]
          },
          "metadata": {},
          "execution_count": 65
        }
      ]
    },
    {
      "cell_type": "markdown",
      "source": [
        "## Write the data into exel shaat to save it"
      ],
      "metadata": {
        "id": "tjw82ZY7rb8A"
      }
    },
    {
      "cell_type": "code",
      "source": [
        "# Convert NumPy array to a Pandas DataFrame\n",
        "df = pd.DataFrame(data, columns=['Column1', 'Column2', 'Column3'])\n",
        "\n",
        "# Write DataFrame to an Excel file\n",
        "excel_filename = 'output.xlsx'\n",
        "df.to_excel(excel_filename, index=False)"
      ],
      "metadata": {
        "id": "Eg9lhuG3C23W"
      },
      "execution_count": 66,
      "outputs": []
    }
  ]
}